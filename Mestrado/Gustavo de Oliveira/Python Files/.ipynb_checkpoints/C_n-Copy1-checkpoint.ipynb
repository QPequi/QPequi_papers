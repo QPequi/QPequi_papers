{
 "cells": [
  {
   "cell_type": "markdown",
   "id": "be378495",
   "metadata": {},
   "source": [
    "$$\n",
    "C_n=\\frac{1}{e\\sqrt{1+a}}\\left(\\frac{1-a}{\\sqrt{1-a^2}}\\right)^n \\operatorname{P}_n\\left(\\frac{1}{\\sqrt{1-a^2}}\\right) \\ \\text{with} \\ a=\\frac{1}{2\\sigma_1^q}.\n",
    "$$"
   ]
  },
  {
   "cell_type": "code",
   "execution_count": null,
   "id": "c0fa88ea",
   "metadata": {},
   "outputs": [],
   "source": [
    "import matplotlib.pyplot as plt\n",
    "import numpy as np\n",
    "pi = np.pi\n",
    "e=np.exp(1)\n",
    "u=2/pi**2\n",
    "v=1/(2*u)\n",
    "a=1/np.sqrt(1+v)\n",
    "b=(1-v)/(1j*np.sqrt(v**2-1))\n",
    "d=1/(1j*np.sqrt(v**2-1))\n",
    "\n",
    "nf=50\n",
    "\n",
    "#Here we define legendre polynominal\n",
    "def P(n, x): \n",
    "    if(n == 0):\n",
    "        return 1 # P0 = 1\n",
    "    elif(n == 1):\n",
    "        return x # P1 = x\n",
    "    else:\n",
    "        return (((2 * n)-1)*x * P(n-1, x)-(n-1)*P(n-2, x))/float(n)\n",
    "    \n",
    "\n",
    "\n",
    "\n",
    "N=np.linspace(0,nf,nf+1)#Vector with divisions in time\n",
    "#--------------------------------------------------------------------------------------------------------------------\n",
    "\n",
    "def c(n):\n",
    "    return abs(a*(b**n)*P(n,d))/e \n",
    "\n",
    "Cn=[]\n",
    "for n in range(nf+1):\n",
    "    g=c(n)\n",
    "    Cn.append(g)\n",
    "    \n",
    "def SCn(n):\n",
    "    g = 0\n",
    "    for s in range(n+1):\n",
    "        g = g + c(s)\n",
    "    return g\n",
    "\n",
    "SSCn=[]\n",
    "for n in range(nf+1):\n",
    "    g=SCn(n)\n",
    "    SSCn.append(g)\n",
    "#-------------------------------------------------------------------------------------------------------------------    \n",
    "def sn(n):\n",
    "    return -c(n)*np.log(c(n))\n",
    "\n",
    "def Sn(n):\n",
    "    g=0\n",
    "    for s in range(n+1):\n",
    "        g=g+sn(s)\n",
    "    return g\n",
    "\n",
    "SSn=[]\n",
    "for n in range(nf+1):\n",
    "    g=Sn(n)\n",
    "    SSn.append(g)\n",
    "    \n"
   ]
  },
  {
   "cell_type": "code",
   "execution_count": 2,
   "id": "23d772fe",
   "metadata": {},
   "outputs": [
    {
     "ename": "NameError",
     "evalue": "name 'plt' is not defined",
     "output_type": "error",
     "traceback": [
      "\u001b[1;31m---------------------------------------------------------------------------\u001b[0m",
      "\u001b[1;31mNameError\u001b[0m                                 Traceback (most recent call last)",
      "\u001b[1;32m~\\AppData\\Local\\Temp\\ipykernel_13928\\1086567660.py\u001b[0m in \u001b[0;36m<module>\u001b[1;34m\u001b[0m\n\u001b[1;32m----> 1\u001b[1;33m \u001b[0mplt\u001b[0m\u001b[1;33m.\u001b[0m\u001b[0mscatter\u001b[0m\u001b[1;33m(\u001b[0m\u001b[0mN\u001b[0m\u001b[1;33m,\u001b[0m\u001b[0mSSn\u001b[0m\u001b[1;33m,\u001b[0m\u001b[1;36m15\u001b[0m\u001b[1;33m)\u001b[0m\u001b[1;33m\u001b[0m\u001b[1;33m\u001b[0m\u001b[0m\n\u001b[0m\u001b[0;32m      2\u001b[0m \u001b[0mplt\u001b[0m\u001b[1;33m.\u001b[0m\u001b[0mscatter\u001b[0m\u001b[1;33m(\u001b[0m\u001b[0mN\u001b[0m\u001b[1;33m,\u001b[0m\u001b[0mSSCn\u001b[0m\u001b[1;33m,\u001b[0m\u001b[1;36m15\u001b[0m\u001b[1;33m)\u001b[0m\u001b[1;33m\u001b[0m\u001b[1;33m\u001b[0m\u001b[0m\n\u001b[0;32m      3\u001b[0m \u001b[0mplt\u001b[0m\u001b[1;33m.\u001b[0m\u001b[0mscatter\u001b[0m\u001b[1;33m(\u001b[0m\u001b[0mN\u001b[0m\u001b[1;33m,\u001b[0m\u001b[0mCn\u001b[0m\u001b[1;33m,\u001b[0m\u001b[1;36m15\u001b[0m\u001b[1;33m)\u001b[0m\u001b[1;33m\u001b[0m\u001b[1;33m\u001b[0m\u001b[0m\n\u001b[0;32m      4\u001b[0m \u001b[0mplt\u001b[0m\u001b[1;33m.\u001b[0m\u001b[0myticks\u001b[0m\u001b[1;33m(\u001b[0m\u001b[0mfontsize\u001b[0m\u001b[1;33m=\u001b[0m\u001b[1;36m18\u001b[0m\u001b[1;33m)\u001b[0m\u001b[1;33m\u001b[0m\u001b[1;33m\u001b[0m\u001b[0m\n\u001b[0;32m      5\u001b[0m \u001b[0mplt\u001b[0m\u001b[1;33m.\u001b[0m\u001b[0mxticks\u001b[0m\u001b[1;33m(\u001b[0m\u001b[0mfontsize\u001b[0m\u001b[1;33m=\u001b[0m\u001b[1;36m18\u001b[0m\u001b[1;33m)\u001b[0m\u001b[1;33m\u001b[0m\u001b[1;33m\u001b[0m\u001b[0m\n",
      "\u001b[1;31mNameError\u001b[0m: name 'plt' is not defined"
     ]
    }
   ],
   "source": [
    "plt.scatter(N,SSn,15)\n",
    "plt.scatter(N,SSCn,15)\n",
    "plt.scatter(N,Cn,15)\n",
    "plt.yticks(fontsize=18)\n",
    "plt.xticks(fontsize=18)\n",
    "plt.xlabel(\"$n$\",fontsize=20) #Label for the x-axis\n",
    "#plt.ylabel(\"$C_n$ and $\\sum_{n} C_n$\",fontsize=20) #Label for the y-axis \n",
    "plt.legend((\"$S(C_n)$\",\"$\\sum_{n^{\\prime}=0}^{n} C_{n^{\\prime}}$\",\"$C_n$\"),frameon=False,fontsize=15) #Legend\n",
    "plt.show() #Showing the plot\n"
   ]
  },
  {
   "cell_type": "code",
   "execution_count": 83,
   "id": "7dbc15ab",
   "metadata": {},
   "outputs": [
    {
     "data": {
      "image/png": "[encoded data removed]",
      "text/plain": [
       "<Figure size 640x480 with 1 Axes>"
      ]
     },
     "metadata": {},
     "output_type": "display_data"
    }
   ],
   "source": [
    "plt.scatter(N,SSCs,20)\n",
    "plt.scatter(N,Cn,15)\n",
    "#plt.yscale('log')\n",
    "plt.yticks(fontsize=18)\n",
    "plt.xticks(fontsize=18)\n",
    "plt.xlabel(\"$n$\",fontsize=20) #Label for the x-axis\n",
    "#plt.ylabel(\"$C_n$ and $\\sum_{n} C_n$\",fontsize=20) #Label for the y-axis \n",
    "plt.legend((\"$C_n$\",\"$\\sum_{n^{\\prime}=0}^{n} C_{n^{\\prime}}$\"),frameon=False,fontsize=15) #Legend\n",
    "plt.show() #Showing the plot"
   ]
  },
  {
   "cell_type": "code",
   "execution_count": 47,
   "id": "d238903a",
   "metadata": {},
   "outputs": [
    {
     "data": {
      "text/plain": [
       "2.4674011002723395"
      ]
     },
     "execution_count": 47,
     "metadata": {},
     "output_type": "execute_result"
    }
   ],
   "source": [
    "v"
   ]
  },
  {
   "cell_type": "code",
   "execution_count": null,
   "id": "67b80d9c",
   "metadata": {},
   "outputs": [],
   "source": []
  }
 ],
 "metadata": {
  "kernelspec": {
   "display_name": "Python 3 (ipykernel)",
   "language": "python",
   "name": "python3"
  },
  "language_info": {
   "codemirror_mode": {
    "name": "ipython",
    "version": 3
   },
   "file_extension": ".py",
   "mimetype": "text/x-python",
   "name": "python",
   "nbconvert_exporter": "python",
   "pygments_lexer": "ipython3",
   "version": "3.9.13"
  }
 },
 "nbformat": 4,
 "nbformat_minor": 5
}
