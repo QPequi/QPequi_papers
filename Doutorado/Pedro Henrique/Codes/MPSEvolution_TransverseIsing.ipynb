{
 "cells": [
  {
   "cell_type": "code",
   "execution_count": 48,
   "id": "32d42918",
   "metadata": {},
   "outputs": [
    {
     "name": "stdout",
     "output_type": "stream",
     "text": [
      "After sweep 1: maxlinkdim=1 maxerr=0.00E+00 current_time=-0.1 time=0.008\n",
      "1\n",
      "After sweep 1: maxlinkdim=1 maxerr=0.00E+00 current_time=-0.1 time=0.008\n",
      "2\n",
      "After sweep 1: maxlinkdim=1 maxerr=0.00E+00 current_time=-0.1 time=0.029\n",
      "3\n",
      "After sweep 1: maxlinkdim=1 maxerr=0.00E+00 current_time=-0.1 time=0.012\n",
      "4\n",
      "After sweep 1: maxlinkdim=1 maxerr=0.00E+00 current_time=-0.1 time=0.011\n",
      "5\n",
      "After sweep 1: maxlinkdim=1 maxerr=0.00E+00 current_time=-0.1 time=0.011\n",
      "6\n",
      "After sweep 1: maxlinkdim=1 maxerr=0.00E+00 current_time=-0.1 time=0.013\n",
      "7\n",
      "After sweep 1: maxlinkdim=1 maxerr=0.00E+00 current_time=-0.1 time=0.028\n",
      "8\n",
      "After sweep 1: maxlinkdim=1 maxerr=0.00E+00 current_time=-0.1 time=0.012\n",
      "9\n",
      "After sweep 1: maxlinkdim=1 maxerr=0.00E+00 current_time=-0.1 time=0.012\n",
      "10\n",
      "After sweep 1: maxlinkdim=1 maxerr=0.00E+00 current_time=-0.1 time=0.012\n",
      "11\n",
      "After sweep 1: maxlinkdim=1 maxerr=0.00E+00 current_time=-0.1 time=0.009\n",
      "12\n",
      "After sweep 1: maxlinkdim=1 maxerr=0.00E+00 current_time=-0.1 time=0.03\n",
      "13\n",
      "After sweep 1: maxlinkdim=1 maxerr=0.00E+00 current_time=-0.1 time=0.009\n",
      "14\n",
      "After sweep 1: maxlinkdim=1 maxerr=0.00E+00 current_time=-0.1 time=0.012\n",
      "15\n",
      "After sweep 1: maxlinkdim=1 maxerr=0.00E+00 current_time=-0.1 time=0.008\n",
      "16\n",
      "After sweep 1: maxlinkdim=1 maxerr=0.00E+00 current_time=-0.1 time=0.008\n",
      "17\n",
      "After sweep 1: maxlinkdim=1 maxerr=0.00E+00 current_time=-0.1 time=0.025\n",
      "18\n",
      "After sweep 1: maxlinkdim=1 maxerr=0.00E+00 current_time=-0.1 time=0.009\n",
      "19\n",
      "After sweep 1: maxlinkdim=1 maxerr=0.00E+00 current_time=-0.1 time=0.01\n",
      "20\n",
      "After sweep 1: maxlinkdim=1 maxerr=0.00E+00 current_time=-0.1 time=0.01\n",
      "21\n",
      "After sweep 1: maxlinkdim=1 maxerr=0.00E+00 current_time=-0.1 time=0.009\n",
      "22\n",
      "After sweep 1: maxlinkdim=1 maxerr=0.00E+00 current_time=-0.1 time=0.022\n",
      "23\n",
      "After sweep 1: maxlinkdim=1 maxerr=0.00E+00 current_time=-0.1 time=0.014\n",
      "24\n",
      "After sweep 1: maxlinkdim=1 maxerr=0.00E+00 current_time=-0.1 time=0.012\n",
      "25\n",
      "After sweep 1: maxlinkdim=1 maxerr=0.00E+00 current_time=-0.1 time=0.013\n",
      "26\n",
      "After sweep 1: maxlinkdim=1 maxerr=0.00E+00 current_time=-0.1 time=0.008\n",
      "27\n",
      "After sweep 1: maxlinkdim=1 maxerr=0.00E+00 current_time=-0.1 time=0.023\n",
      "28\n",
      "After sweep 1: maxlinkdim=1 maxerr=0.00E+00 current_time=-0.1 time=0.013\n",
      "29\n",
      "After sweep 1: maxlinkdim=1 maxerr=0.00E+00 current_time=-0.1 time=0.009\n",
      "30\n",
      "After sweep 1: maxlinkdim=1 maxerr=0.00E+00 current_time=-0.1 time=0.013\n",
      "31\n",
      "After sweep 1: maxlinkdim=1 maxerr=0.00E+00 current_time=-0.1 time=0.009\n",
      "32\n",
      "After sweep 1: maxlinkdim=1 maxerr=0.00E+00 current_time=-0.1 time=0.019\n",
      "33\n",
      "After sweep 1: maxlinkdim=1 maxerr=0.00E+00 current_time=-0.1 time=0.01\n",
      "34\n",
      "After sweep 1: maxlinkdim=1 maxerr=0.00E+00 current_time=-0.1 time=0.015\n",
      "35\n",
      "After sweep 1: maxlinkdim=1 maxerr=0.00E+00 current_time=-0.1 time=0.011\n",
      "36\n",
      "After sweep 1: maxlinkdim=1 maxerr=0.00E+00 current_time=-0.1 time=0.016\n",
      "37\n",
      "After sweep 1: maxlinkdim=1 maxerr=0.00E+00 current_time=-0.1 time=0.025\n",
      "38\n",
      "After sweep 1: maxlinkdim=1 maxerr=0.00E+00 current_time=-0.1 time=0.014\n",
      "39\n",
      "After sweep 1: maxlinkdim=1 maxerr=0.00E+00 current_time=-0.1 time=0.012\n",
      "40\n",
      "After sweep 1: maxlinkdim=1 maxerr=0.00E+00 current_time=-0.1 time=0.009\n",
      "41\n",
      "After sweep 1: maxlinkdim=1 maxerr=0.00E+00 current_time=-0.1 time=0.008\n",
      "42\n",
      "After sweep 1: maxlinkdim=1 maxerr=0.00E+00 current_time=-0.1 time=0.02\n",
      "43\n",
      "After sweep 1: maxlinkdim=1 maxerr=0.00E+00 current_time=-0.1 time=0.01\n",
      "44\n",
      "After sweep 1: maxlinkdim=1 maxerr=0.00E+00 current_time=-0.1 time=0.011\n",
      "45\n",
      "After sweep 1: maxlinkdim=1 maxerr=0.00E+00 current_time=-0.1 time=0.009\n",
      "46\n",
      "After sweep 1: maxlinkdim=1 maxerr=0.00E+00 current_time=-0.1 time=0.01\n",
      "47\n",
      "After sweep 1: maxlinkdim=1 maxerr=0.00E+00 current_time=-0.1 time=0.025\n",
      "48\n",
      "After sweep 1: maxlinkdim=1 maxerr=0.00E+00 current_time=-0.1 time=0.009\n",
      "49\n",
      "After sweep 1: maxlinkdim=1 maxerr=0.00E+00 current_time=-0.1 time=0.011\n",
      "50\n",
      "After sweep 1: maxlinkdim=1 maxerr=1.09E-13 current_time=-0.1 time=0.02\n",
      "1\n"
     ]
    },
    {
     "ename": "LoadError",
     "evalue": "InexactError: Float64(4.999909482941755 - 1.6653345369377348e-16im)",
     "output_type": "error",
     "traceback": [
      "InexactError: Float64(4.999909482941755 - 1.6653345369377348e-16im)",
      "",
      "Stacktrace:",
      " [1] Real",
      "   @ ./complex.jl:44 [inlined]",
      " [2] convert",
      "   @ ./number.jl:7 [inlined]",
      " [3] setindex!(A::Vector{Float64}, x::ComplexF64, i1::Int64)",
      "   @ Base ./array.jl:969",
      " [4] top-level scope",
      "   @ ./In[48]:70"
     ]
    }
   ],
   "source": [
    "using ITensors\n",
    "using ITensorTDVP\n",
    "using PyCall\n",
    "np = pyimport(\"numpy\")\n",
    "\n",
    "\n",
    "n = 10\n",
    "s = siteinds(\"S=1/2\", n)\n",
    "\n",
    "#################\n",
    "#\n",
    "# Defining the model\n",
    "#\n",
    "#################\n",
    "\n",
    "function TransverseIsing(n, h) #Transverse field Ising model\n",
    "    os = OpSum()\n",
    "    for j in 1:(n - 1)\n",
    "        os += -1,\"Sz\", j, \"Sz\", j + 1 #ITensor includes the factor 1/2 for each operator\n",
    "    end\n",
    "    for j in 1:n\n",
    "        os += -h,\"Sx\", j #Field along x\n",
    "    end\n",
    "    return os\n",
    "end\n",
    "\n",
    "function Sz(n) #\n",
    "    os = OpSum()\n",
    "    for j in 1:n\n",
    "        os += +1,\"Sz\", j\n",
    "    end\n",
    "    return MPO(os, s)\n",
    "end\n",
    "\n",
    "##################\n",
    "#\n",
    "# Time Evolution\n",
    "#\n",
    "##################\n",
    "\n",
    "nstep = 50\n",
    "step = -0.1\n",
    "psi0 = MPS(s, [\"↑\" for k in 1:n]) #Initial state\n",
    "h = collect(0:0.033:1) \n",
    "Sz_t = zeros(nstep+1) #Stores the total magnetization at each time step\n",
    "Sz_av = zeros(length(h)) #Stores the averaged magnetization values\n",
    "\n",
    "for i in 1:length(h)\n",
    "    \n",
    "    psi_previous = psi0\n",
    "    H = MPO(TransverseIsing(n, h[i]), s)\n",
    "    \n",
    "    for t in 1:nstep\n",
    "    \n",
    "        psi_current = tdvp(\n",
    "          1im*H,\n",
    "          psi_previous, \n",
    "          step;\n",
    "          nsweeps=1,\n",
    "          reverse_step=false,\n",
    "          normalize=true,\n",
    "          maxdim=30,\n",
    "          cutoff=1e-10,\n",
    "          outputlevel=1,\n",
    "          solver_backend=\"exponentiate\",\n",
    "        )\n",
    "        \n",
    "        println(t)\n",
    "        \n",
    "        Sz_t[t] = inner(psi_current', Sz(n), psi_current)\n",
    "        \n",
    "        psi_previous = psi_current\n",
    "    end\n",
    "    \n",
    "    Sz_av[i] = (1/(nstep*real(step)))*np.trapz(Sz_t, collect(0:real(step):nstep*real(step)))\n",
    "        \n",
    "end\n",
    "\n",
    "\n"
   ]
  },
  {
   "cell_type": "code",
   "execution_count": 40,
   "id": "25a2b6f1",
   "metadata": {},
   "outputs": [
    {
     "data": {
      "image/png": "[encoded data removed]",
      "text/plain": [
       "Figure(PyObject <Figure size 640x480 with 1 Axes>)"
      ]
     },
     "metadata": {},
     "output_type": "display_data"
    },
    {
     "data": {
      "text/plain": [
       "1-element Vector{PyObject}:\n",
       " PyObject <matplotlib.lines.Line2D object at 0x7f755ce1c0a0>"
      ]
     },
     "execution_count": 40,
     "metadata": {},
     "output_type": "execute_result"
    }
   ],
   "source": [
    "using PyPlot\n",
    "\n",
    "plot(h, Sz_av)"
   ]
  },
  {
   "cell_type": "code",
   "execution_count": 29,
   "id": "684a72ef",
   "metadata": {},
   "outputs": [
    {
     "ename": "LoadError",
     "evalue": "UndefVarError: `psi_current` not defined",
     "output_type": "error",
     "traceback": [
      "UndefVarError: `psi_current` not defined",
      ""
     ]
    }
   ],
   "source": [
    "psi_current"
   ]
  },
  {
   "cell_type": "code",
   "execution_count": 30,
   "id": "addf2a1a",
   "metadata": {},
   "outputs": [
    {
     "ename": "LoadError",
     "evalue": "UndefVarError: `i` not defined",
     "output_type": "error",
     "traceback": [
      "UndefVarError: `i` not defined",
      ""
     ]
    }
   ],
   "source": [
    "i"
   ]
  },
  {
   "cell_type": "code",
   "execution_count": 38,
   "id": "b8d9beb6",
   "metadata": {},
   "outputs": [
    {
     "data": {
      "text/plain": [
       "0.1"
      ]
     },
     "execution_count": 38,
     "metadata": {},
     "output_type": "execute_result"
    }
   ],
   "source": [
    "imag(step)"
   ]
  },
  {
   "cell_type": "code",
   "execution_count": null,
   "id": "8bdd19a6",
   "metadata": {},
   "outputs": [],
   "source": []
  }
 ],
 "metadata": {
  "kernelspec": {
   "display_name": "Julia 1.9.3",
   "language": "julia",
   "name": "julia-1.9"
  },
  "language_info": {
   "file_extension": ".jl",
   "mimetype": "application/julia",
   "name": "julia",
   "version": "1.9.3"
  }
 },
 "nbformat": 4,
 "nbformat_minor": 5
}
