{
 "cells": [
  {
   "cell_type": "code",
   "execution_count": 6,
   "metadata": {},
   "outputs": [
    {
     "data": {
      "text/plain": [
       "⊗ (generic function with 1 method)"
      ]
     },
     "execution_count": 6,
     "metadata": {},
     "output_type": "execute_result"
    }
   ],
   "source": [
    "⊗(x,y) = kron(x,y)"
   ]
  },
  {
   "cell_type": "code",
   "execution_count": 20,
   "metadata": {},
   "outputs": [
    {
     "data": {
      "text/plain": [
       "TFIsing (generic function with 2 methods)"
      ]
     },
     "execution_count": 20,
     "metadata": {},
     "output_type": "execute_result"
    }
   ],
   "source": [
    "function TFIsing(;N,h)\n",
    "    id = [1 0; 0 1]\n",
    "    σˣ = [0 1; 1 0]\n",
    "    σᶻ = [1 0; 0 -1]\n",
    "    \n",
    "    # vector of operators: [σᶻ, σᶻ, id, ...]\n",
    "    first_term_ops = fill(id, N)\n",
    "    first_term_ops[1] = σᶻ\n",
    "    first_term_ops[2] = σᶻ\n",
    "    \n",
    "    # vector of operators: [σˣ, id, ...]\n",
    "    second_term_ops = fill(id, N)\n",
    "    second_term_ops[1] = σˣ\n",
    "    \n",
    "    H = zeros(Int, 2^N, 2^N)\n",
    "    for i in 1:N-1\n",
    "        # tensor multiply all operators\n",
    "        H -= foldl(⊗, first_term_ops)\n",
    "        # cyclic shift the operators\n",
    "        first_term_ops = circshift(first_term_ops,1)\n",
    "    end\n",
    "    \n",
    "    for i in 1:N\n",
    "        H -= h*foldl(⊗, second_term_ops)\n",
    "        second_term_ops = circshift(second_term_ops,1)\n",
    "    end\n",
    "    H\n",
    "end"
   ]
  },
  {
   "cell_type": "code",
   "execution_count": 22,
   "metadata": {},
   "outputs": [
    {
     "data": {
      "text/plain": [
       "256×256 Matrix{Int64}:\n",
       " -7  -1  -1   0  -1   0   0   0  -1  …   0   0   0   0   0   0   0   0   0\n",
       " -1  -5   0  -1   0  -1   0   0   0      0   0   0   0   0   0   0   0   0\n",
       " -1   0  -3  -1   0   0  -1   0   0      0   0   0   0   0   0   0   0   0\n",
       "  0  -1  -1  -5   0   0   0  -1   0      0   0   0   0   0   0   0   0   0\n",
       " -1   0   0   0  -3  -1  -1   0   0      0   0   0   0   0   0   0   0   0\n",
       "  0  -1   0   0  -1  -1   0  -1   0  …   0   0   0   0   0   0   0   0   0\n",
       "  0   0  -1   0  -1   0  -3  -1   0      0   0   0   0   0   0   0   0   0\n",
       "  0   0   0  -1   0  -1  -1  -5   0      0   0   0   0   0   0   0   0   0\n",
       " -1   0   0   0   0   0   0   0  -3      0   0   0   0   0   0   0   0   0\n",
       "  0  -1   0   0   0   0   0   0  -1      0   0   0   0   0   0   0   0   0\n",
       "  0   0  -1   0   0   0   0   0  -1  …   0   0   0   0   0   0   0   0   0\n",
       "  0   0   0  -1   0   0   0   0   0      0   0   0   0   0   0   0   0   0\n",
       "  0   0   0   0  -1   0   0   0  -1      0   0   0   0   0   0   0   0   0\n",
       "  ⋮                   ⋮              ⋱               ⋮                   ⋮\n",
       "  0   0   0   0   0   0   0   0   0      0   0   0   0   0  -1   0   0   0\n",
       "  0   0   0   0   0   0   0   0   0  …  -1   0   0   0   0   0  -1   0   0\n",
       "  0   0   0   0   0   0   0   0   0     -1   0   0   0   0   0   0  -1   0\n",
       "  0   0   0   0   0   0   0   0   0     -3   0   0   0   0   0   0   0  -1\n",
       "  0   0   0   0   0   0   0   0   0      0  -5  -1  -1   0  -1   0   0   0\n",
       "  0   0   0   0   0   0   0   0   0      0  -1  -3   0  -1   0  -1   0   0\n",
       "  0   0   0   0   0   0   0   0   0  …   0  -1   0  -1  -1   0   0  -1   0\n",
       "  0   0   0   0   0   0   0   0   0      0   0  -1  -1  -3   0   0   0  -1\n",
       "  0   0   0   0   0   0   0   0   0      0  -1   0   0   0  -5  -1  -1   0\n",
       "  0   0   0   0   0   0   0   0   0      0   0  -1   0   0  -1  -3   0  -1\n",
       "  0   0   0   0   0   0   0   0   0      0   0   0  -1   0  -1   0  -5  -1\n",
       "  0   0   0   0   0   0   0   0   0  …  -1   0   0   0  -1   0  -1  -1  -7"
      ]
     },
     "execution_count": 22,
     "metadata": {},
     "output_type": "execute_result"
    }
   ],
   "source": [
    "TFIsing(N=8,h=1)"
   ]
  },
  {
   "cell_type": "code",
   "execution_count": 12,
   "metadata": {},
   "outputs": [
    {
     "data": {
      "text/plain": [
       "bit_rep (generic function with 1 method)"
      ]
     },
     "execution_count": 12,
     "metadata": {},
     "output_type": "execute_result"
    }
   ],
   "source": [
    "\"\"\"\n",
    "Binary `BitArray` representation of the given integer `num`, padded to length `N`.\n",
    "\"\"\"\n",
    "bit_rep(num::Integer, N::Integer) = BitArray(parse(Bool, i) for i in string(num, base=2, pad=N))\n",
    "\n",
    "\"\"\"\n",
    "    generate_basis(N::Integer) -> basis\n",
    "\n",
    "Generates a basis (`Vector{BitArray}`) spanning the Hilbert space of `N` spins.\n",
    "\"\"\"\n",
    "function generate_basis(N::Integer)\n",
    "    nstates = 2^N\n",
    "    basis = Vector{BitArray{1}}(undef, nstates)\n",
    "    for i in 0:nstates-1\n",
    "        basis[i+1] = bit_rep(i, N)\n",
    "    end\n",
    "    return basis\n",
    "end"
   ]
  },
  {
   "cell_type": "code",
   "execution_count": 3,
   "metadata": {},
   "outputs": [
    {
     "data": {
      "text/plain": [
       "10-element Vector{Float64}:\n",
       "   0.010000000000000002\n",
       "   0.027825594022071243\n",
       "   0.0774263682681127\n",
       "   0.2154434690031884\n",
       "   0.599484250318941\n",
       "   1.6681005372000588\n",
       "   4.641588833612778\n",
       "  12.91549665014884\n",
       "  35.938136638046274\n",
       " 100.0"
      ]
     },
     "execution_count": 3,
     "metadata": {},
     "output_type": "execute_result"
    }
   ],
   "source": [
    "hs = 10 .^ range(-2, 2, 10); hs"
   ]
  },
  {
   "cell_type": "code",
   "execution_count": null,
   "metadata": {},
   "outputs": [],
   "source": []
  }
 ],
 "metadata": {
  "kernelspec": {
   "display_name": "Julia 1.9.3",
   "language": "julia",
   "name": "julia-1.9"
  },
  "language_info": {
   "file_extension": ".jl",
   "mimetype": "application/julia",
   "name": "julia",
   "version": "1.9.3"
  }
 },
 "nbformat": 4,
 "nbformat_minor": 5
}
