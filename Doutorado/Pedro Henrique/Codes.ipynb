{
 "cells": [
  {
   "cell_type": "code",
   "execution_count": 3,
   "id": "7598ff6b",
   "metadata": {},
   "outputs": [
    {
     "data": {
      "text/plain": [
       "quench_ising (generic function with 1 method)"
      ]
     },
     "execution_count": 3,
     "metadata": {},
     "output_type": "execute_result"
    }
   ],
   "source": [
    "using ITensors\n",
    "using PyPlot\n",
    "\n",
    "function quench_ising(N, J, hf, tf, tstep, cutoff)\n",
    "    \n",
    "\n",
    "    # Make an array of 'site' indices\n",
    "    s = siteinds(\"S=1/2\", N; conserve_qns=true)\n",
    "\n",
    "    # Make gates (1,2),(2,3),(3,4),...\n",
    "    gates = ITensor[]\n",
    "    for j in 1:(N - 1)\n",
    "        s1 = s[j]\n",
    "        s2 = s[j + 1]\n",
    "        hj =\n",
    "            - J * op(\"Sz\", s1) * op(\"Sz\", s2)\n",
    "            - hf * op(\"Sx\", s1)\n",
    "        Gj = exp(-im * s / 2 * hj)\n",
    "        push!(gates, Gj)\n",
    "    end\n",
    "        \n",
    "    # Include gates in reverse order too\n",
    "    # (N,N-1),(N-1,N-2),...\n",
    "    append!(gates, reverse(gates))\n",
    "    \n",
    "    # Initialize psi to be a product state (all up)\n",
    "    psi = MPS(s, \"Up\" for i=1:N)\n",
    "    \n",
    "    Sz = []\n",
    "    i = 1\n",
    "    for t in 0.0:tstep:tf\n",
    "        Sz[i] = expect(psi, \"Sz\")\n",
    "        println(\"$t\")\n",
    "\n",
    "        t≈ttotal && break\n",
    "\n",
    "        psi = apply(gates, psi; cutoff)\n",
    "        normalize!(psi)\n",
    "        i += 1\n",
    "    end\n",
    "    \n",
    "    return Sz\n",
    "    \n",
    "end\n"
   ]
  },
  {
   "cell_type": "code",
   "execution_count": 5,
   "id": "a08ecf18",
   "metadata": {},
   "outputs": [],
   "source": [
    "N = 100\n",
    "J = 1\n",
    "hf = 0.6\n",
    "tf = 50\n",
    "tstep = 0.1\n",
    "cutoff = 1E-7;\n",
    "\n"
   ]
  },
  {
   "cell_type": "code",
   "execution_count": null,
   "id": "6ded0a01",
   "metadata": {},
   "outputs": [],
   "source": []
  }
 ],
 "metadata": {
  "kernelspec": {
   "display_name": "Julia 1.9.3",
   "language": "julia",
   "name": "julia-1.9"
  },
  "language_info": {
   "file_extension": ".jl",
   "mimetype": "application/julia",
   "name": "julia",
   "version": "1.9.3"
  }
 },
 "nbformat": 4,
 "nbformat_minor": 5
}
